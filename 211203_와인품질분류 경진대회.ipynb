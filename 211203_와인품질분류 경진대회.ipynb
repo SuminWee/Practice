{
  "nbformat": 4,
  "nbformat_minor": 0,
  "metadata": {
    "colab": {
      "name": "211203_(데이콘 공모전) 와인품질분류.ipynb",
      "provenance": [],
      "collapsed_sections": []
    },
    "kernelspec": {
      "name": "python3",
      "display_name": "Python 3"
    },
    "language_info": {
      "name": "python"
    }
  },
  "cells": [
    {
      "cell_type": "code",
      "metadata": {
        "colab": {
          "base_uri": "https://localhost:8080/"
        },
        "id": "0JRVeH7mApfc",
        "outputId": "d03a8f08-9f85-4bfe-cd3d-49fc14229d6c"
      },
      "source": [
        "%cd '/content/drive/MyDrive/Colab Notebooks/(dacon)와인품질분류'\n",
        "!unzip \"(dataset)와인품질분류.zip\""
      ],
      "execution_count": null,
      "outputs": [
        {
          "output_type": "stream",
          "name": "stdout",
          "text": [
            "/content/drive/MyDrive/Colab Notebooks/(dacon)와인품질분류\n",
            "Archive:  (dataset)와인품질분류.zip\n",
            "replace sample_submission.csv? [y]es, [n]o, [A]ll, [N]one, [r]ename: n\n",
            "replace test.csv? [y]es, [n]o, [A]ll, [N]one, [r]ename: \n",
            "error:  invalid response [{ENTER}]\n",
            "replace test.csv? [y]es, [n]o, [A]ll, [N]one, [r]ename: n\n",
            "replace train.csv? [y]es, [n]o, [A]ll, [N]one, [r]ename: n\n"
          ]
        }
      ]
    },
    {
      "cell_type": "code",
      "metadata": {
        "colab": {
          "base_uri": "https://localhost:8080/",
          "height": 441
        },
        "id": "FQ_L4qrvA_kr",
        "outputId": "db8450f2-d309-49d9-93fa-ed63a42c2d40"
      },
      "source": [
        "import pandas as pd\n",
        "\n",
        "train = pd.read_csv('/content/drive/MyDrive/Colab Notebooks/(dacon)와인품질분류/train.csv')\n",
        "train"
      ],
      "execution_count": null,
      "outputs": [
        {
          "output_type": "execute_result",
          "data": {
            "text/html": [
              "<div>\n",
              "<style scoped>\n",
              "    .dataframe tbody tr th:only-of-type {\n",
              "        vertical-align: middle;\n",
              "    }\n",
              "\n",
              "    .dataframe tbody tr th {\n",
              "        vertical-align: top;\n",
              "    }\n",
              "\n",
              "    .dataframe thead th {\n",
              "        text-align: right;\n",
              "    }\n",
              "</style>\n",
              "<table border=\"1\" class=\"dataframe\">\n",
              "  <thead>\n",
              "    <tr style=\"text-align: right;\">\n",
              "      <th></th>\n",
              "      <th>id</th>\n",
              "      <th>fixed acidity</th>\n",
              "      <th>volatile acidity</th>\n",
              "      <th>citric acid</th>\n",
              "      <th>residual sugar</th>\n",
              "      <th>chlorides</th>\n",
              "      <th>free sulfur dioxide</th>\n",
              "      <th>total sulfur dioxide</th>\n",
              "      <th>density</th>\n",
              "      <th>pH</th>\n",
              "      <th>sulphates</th>\n",
              "      <th>alcohol</th>\n",
              "      <th>type</th>\n",
              "      <th>quality</th>\n",
              "    </tr>\n",
              "  </thead>\n",
              "  <tbody>\n",
              "    <tr>\n",
              "      <th>0</th>\n",
              "      <td>1</td>\n",
              "      <td>8.0</td>\n",
              "      <td>0.18</td>\n",
              "      <td>0.37</td>\n",
              "      <td>1.30</td>\n",
              "      <td>0.040</td>\n",
              "      <td>15.0</td>\n",
              "      <td>96.0</td>\n",
              "      <td>0.99120</td>\n",
              "      <td>3.06</td>\n",
              "      <td>0.61</td>\n",
              "      <td>12.1</td>\n",
              "      <td>white</td>\n",
              "      <td>6</td>\n",
              "    </tr>\n",
              "    <tr>\n",
              "      <th>1</th>\n",
              "      <td>2</td>\n",
              "      <td>7.5</td>\n",
              "      <td>0.38</td>\n",
              "      <td>0.29</td>\n",
              "      <td>4.90</td>\n",
              "      <td>0.021</td>\n",
              "      <td>38.0</td>\n",
              "      <td>113.0</td>\n",
              "      <td>0.99026</td>\n",
              "      <td>3.08</td>\n",
              "      <td>0.48</td>\n",
              "      <td>13.0</td>\n",
              "      <td>white</td>\n",
              "      <td>7</td>\n",
              "    </tr>\n",
              "    <tr>\n",
              "      <th>2</th>\n",
              "      <td>3</td>\n",
              "      <td>6.1</td>\n",
              "      <td>0.27</td>\n",
              "      <td>0.33</td>\n",
              "      <td>2.20</td>\n",
              "      <td>0.021</td>\n",
              "      <td>26.0</td>\n",
              "      <td>117.0</td>\n",
              "      <td>0.98860</td>\n",
              "      <td>3.12</td>\n",
              "      <td>0.30</td>\n",
              "      <td>12.5</td>\n",
              "      <td>white</td>\n",
              "      <td>6</td>\n",
              "    </tr>\n",
              "    <tr>\n",
              "      <th>3</th>\n",
              "      <td>4</td>\n",
              "      <td>6.4</td>\n",
              "      <td>0.32</td>\n",
              "      <td>0.50</td>\n",
              "      <td>10.70</td>\n",
              "      <td>0.047</td>\n",
              "      <td>57.0</td>\n",
              "      <td>206.0</td>\n",
              "      <td>0.99680</td>\n",
              "      <td>3.08</td>\n",
              "      <td>0.60</td>\n",
              "      <td>9.4</td>\n",
              "      <td>white</td>\n",
              "      <td>5</td>\n",
              "    </tr>\n",
              "    <tr>\n",
              "      <th>4</th>\n",
              "      <td>5</td>\n",
              "      <td>8.4</td>\n",
              "      <td>0.37</td>\n",
              "      <td>0.43</td>\n",
              "      <td>2.30</td>\n",
              "      <td>0.063</td>\n",
              "      <td>12.0</td>\n",
              "      <td>19.0</td>\n",
              "      <td>0.99550</td>\n",
              "      <td>3.17</td>\n",
              "      <td>0.81</td>\n",
              "      <td>11.2</td>\n",
              "      <td>red</td>\n",
              "      <td>7</td>\n",
              "    </tr>\n",
              "    <tr>\n",
              "      <th>...</th>\n",
              "      <td>...</td>\n",
              "      <td>...</td>\n",
              "      <td>...</td>\n",
              "      <td>...</td>\n",
              "      <td>...</td>\n",
              "      <td>...</td>\n",
              "      <td>...</td>\n",
              "      <td>...</td>\n",
              "      <td>...</td>\n",
              "      <td>...</td>\n",
              "      <td>...</td>\n",
              "      <td>...</td>\n",
              "      <td>...</td>\n",
              "      <td>...</td>\n",
              "    </tr>\n",
              "    <tr>\n",
              "      <th>3226</th>\n",
              "      <td>3227</td>\n",
              "      <td>6.4</td>\n",
              "      <td>0.16</td>\n",
              "      <td>0.31</td>\n",
              "      <td>5.30</td>\n",
              "      <td>0.043</td>\n",
              "      <td>42.0</td>\n",
              "      <td>157.0</td>\n",
              "      <td>0.99455</td>\n",
              "      <td>3.35</td>\n",
              "      <td>0.47</td>\n",
              "      <td>10.5</td>\n",
              "      <td>white</td>\n",
              "      <td>5</td>\n",
              "    </tr>\n",
              "    <tr>\n",
              "      <th>3227</th>\n",
              "      <td>3228</td>\n",
              "      <td>6.4</td>\n",
              "      <td>0.18</td>\n",
              "      <td>0.28</td>\n",
              "      <td>17.05</td>\n",
              "      <td>0.047</td>\n",
              "      <td>53.0</td>\n",
              "      <td>139.0</td>\n",
              "      <td>0.99724</td>\n",
              "      <td>3.25</td>\n",
              "      <td>0.35</td>\n",
              "      <td>10.5</td>\n",
              "      <td>white</td>\n",
              "      <td>6</td>\n",
              "    </tr>\n",
              "    <tr>\n",
              "      <th>3228</th>\n",
              "      <td>3229</td>\n",
              "      <td>6.0</td>\n",
              "      <td>0.28</td>\n",
              "      <td>0.25</td>\n",
              "      <td>1.80</td>\n",
              "      <td>0.042</td>\n",
              "      <td>8.0</td>\n",
              "      <td>108.0</td>\n",
              "      <td>0.99290</td>\n",
              "      <td>3.08</td>\n",
              "      <td>0.55</td>\n",
              "      <td>9.0</td>\n",
              "      <td>white</td>\n",
              "      <td>5</td>\n",
              "    </tr>\n",
              "    <tr>\n",
              "      <th>3229</th>\n",
              "      <td>3230</td>\n",
              "      <td>7.7</td>\n",
              "      <td>0.28</td>\n",
              "      <td>0.29</td>\n",
              "      <td>6.90</td>\n",
              "      <td>0.041</td>\n",
              "      <td>29.0</td>\n",
              "      <td>163.0</td>\n",
              "      <td>0.99520</td>\n",
              "      <td>3.44</td>\n",
              "      <td>0.60</td>\n",
              "      <td>10.5</td>\n",
              "      <td>white</td>\n",
              "      <td>6</td>\n",
              "    </tr>\n",
              "    <tr>\n",
              "      <th>3230</th>\n",
              "      <td>3231</td>\n",
              "      <td>7.1</td>\n",
              "      <td>0.15</td>\n",
              "      <td>0.34</td>\n",
              "      <td>5.30</td>\n",
              "      <td>0.034</td>\n",
              "      <td>33.0</td>\n",
              "      <td>104.0</td>\n",
              "      <td>0.99530</td>\n",
              "      <td>3.37</td>\n",
              "      <td>0.52</td>\n",
              "      <td>9.3</td>\n",
              "      <td>white</td>\n",
              "      <td>7</td>\n",
              "    </tr>\n",
              "  </tbody>\n",
              "</table>\n",
              "<p>3231 rows × 14 columns</p>\n",
              "</div>"
            ],
            "text/plain": [
              "        id  fixed acidity  volatile acidity  ...  alcohol   type  quality\n",
              "0        1            8.0              0.18  ...     12.1  white        6\n",
              "1        2            7.5              0.38  ...     13.0  white        7\n",
              "2        3            6.1              0.27  ...     12.5  white        6\n",
              "3        4            6.4              0.32  ...      9.4  white        5\n",
              "4        5            8.4              0.37  ...     11.2    red        7\n",
              "...    ...            ...               ...  ...      ...    ...      ...\n",
              "3226  3227            6.4              0.16  ...     10.5  white        5\n",
              "3227  3228            6.4              0.18  ...     10.5  white        6\n",
              "3228  3229            6.0              0.28  ...      9.0  white        5\n",
              "3229  3230            7.7              0.28  ...     10.5  white        6\n",
              "3230  3231            7.1              0.15  ...      9.3  white        7\n",
              "\n",
              "[3231 rows x 14 columns]"
            ]
          },
          "metadata": {},
          "execution_count": 8
        }
      ]
    },
    {
      "cell_type": "code",
      "metadata": {
        "colab": {
          "base_uri": "https://localhost:8080/",
          "height": 441
        },
        "id": "9cqWWicZGEK2",
        "outputId": "e46250b2-d47e-4511-9a0a-060c201a2708"
      },
      "source": [
        "word_to_num = {'white':0,'red':1}\n",
        "\n",
        "train['type'] = train['type'].replace(word_to_num)\n",
        "train"
      ],
      "execution_count": null,
      "outputs": [
        {
          "output_type": "execute_result",
          "data": {
            "text/html": [
              "<div>\n",
              "<style scoped>\n",
              "    .dataframe tbody tr th:only-of-type {\n",
              "        vertical-align: middle;\n",
              "    }\n",
              "\n",
              "    .dataframe tbody tr th {\n",
              "        vertical-align: top;\n",
              "    }\n",
              "\n",
              "    .dataframe thead th {\n",
              "        text-align: right;\n",
              "    }\n",
              "</style>\n",
              "<table border=\"1\" class=\"dataframe\">\n",
              "  <thead>\n",
              "    <tr style=\"text-align: right;\">\n",
              "      <th></th>\n",
              "      <th>id</th>\n",
              "      <th>fixed acidity</th>\n",
              "      <th>volatile acidity</th>\n",
              "      <th>citric acid</th>\n",
              "      <th>residual sugar</th>\n",
              "      <th>chlorides</th>\n",
              "      <th>free sulfur dioxide</th>\n",
              "      <th>total sulfur dioxide</th>\n",
              "      <th>density</th>\n",
              "      <th>pH</th>\n",
              "      <th>sulphates</th>\n",
              "      <th>alcohol</th>\n",
              "      <th>type</th>\n",
              "      <th>quality</th>\n",
              "    </tr>\n",
              "  </thead>\n",
              "  <tbody>\n",
              "    <tr>\n",
              "      <th>0</th>\n",
              "      <td>1</td>\n",
              "      <td>8.0</td>\n",
              "      <td>0.18</td>\n",
              "      <td>0.37</td>\n",
              "      <td>1.30</td>\n",
              "      <td>0.040</td>\n",
              "      <td>15.0</td>\n",
              "      <td>96.0</td>\n",
              "      <td>0.99120</td>\n",
              "      <td>3.06</td>\n",
              "      <td>0.61</td>\n",
              "      <td>12.1</td>\n",
              "      <td>0</td>\n",
              "      <td>6</td>\n",
              "    </tr>\n",
              "    <tr>\n",
              "      <th>1</th>\n",
              "      <td>2</td>\n",
              "      <td>7.5</td>\n",
              "      <td>0.38</td>\n",
              "      <td>0.29</td>\n",
              "      <td>4.90</td>\n",
              "      <td>0.021</td>\n",
              "      <td>38.0</td>\n",
              "      <td>113.0</td>\n",
              "      <td>0.99026</td>\n",
              "      <td>3.08</td>\n",
              "      <td>0.48</td>\n",
              "      <td>13.0</td>\n",
              "      <td>0</td>\n",
              "      <td>7</td>\n",
              "    </tr>\n",
              "    <tr>\n",
              "      <th>2</th>\n",
              "      <td>3</td>\n",
              "      <td>6.1</td>\n",
              "      <td>0.27</td>\n",
              "      <td>0.33</td>\n",
              "      <td>2.20</td>\n",
              "      <td>0.021</td>\n",
              "      <td>26.0</td>\n",
              "      <td>117.0</td>\n",
              "      <td>0.98860</td>\n",
              "      <td>3.12</td>\n",
              "      <td>0.30</td>\n",
              "      <td>12.5</td>\n",
              "      <td>0</td>\n",
              "      <td>6</td>\n",
              "    </tr>\n",
              "    <tr>\n",
              "      <th>3</th>\n",
              "      <td>4</td>\n",
              "      <td>6.4</td>\n",
              "      <td>0.32</td>\n",
              "      <td>0.50</td>\n",
              "      <td>10.70</td>\n",
              "      <td>0.047</td>\n",
              "      <td>57.0</td>\n",
              "      <td>206.0</td>\n",
              "      <td>0.99680</td>\n",
              "      <td>3.08</td>\n",
              "      <td>0.60</td>\n",
              "      <td>9.4</td>\n",
              "      <td>0</td>\n",
              "      <td>5</td>\n",
              "    </tr>\n",
              "    <tr>\n",
              "      <th>4</th>\n",
              "      <td>5</td>\n",
              "      <td>8.4</td>\n",
              "      <td>0.37</td>\n",
              "      <td>0.43</td>\n",
              "      <td>2.30</td>\n",
              "      <td>0.063</td>\n",
              "      <td>12.0</td>\n",
              "      <td>19.0</td>\n",
              "      <td>0.99550</td>\n",
              "      <td>3.17</td>\n",
              "      <td>0.81</td>\n",
              "      <td>11.2</td>\n",
              "      <td>1</td>\n",
              "      <td>7</td>\n",
              "    </tr>\n",
              "    <tr>\n",
              "      <th>...</th>\n",
              "      <td>...</td>\n",
              "      <td>...</td>\n",
              "      <td>...</td>\n",
              "      <td>...</td>\n",
              "      <td>...</td>\n",
              "      <td>...</td>\n",
              "      <td>...</td>\n",
              "      <td>...</td>\n",
              "      <td>...</td>\n",
              "      <td>...</td>\n",
              "      <td>...</td>\n",
              "      <td>...</td>\n",
              "      <td>...</td>\n",
              "      <td>...</td>\n",
              "    </tr>\n",
              "    <tr>\n",
              "      <th>3226</th>\n",
              "      <td>3227</td>\n",
              "      <td>6.4</td>\n",
              "      <td>0.16</td>\n",
              "      <td>0.31</td>\n",
              "      <td>5.30</td>\n",
              "      <td>0.043</td>\n",
              "      <td>42.0</td>\n",
              "      <td>157.0</td>\n",
              "      <td>0.99455</td>\n",
              "      <td>3.35</td>\n",
              "      <td>0.47</td>\n",
              "      <td>10.5</td>\n",
              "      <td>0</td>\n",
              "      <td>5</td>\n",
              "    </tr>\n",
              "    <tr>\n",
              "      <th>3227</th>\n",
              "      <td>3228</td>\n",
              "      <td>6.4</td>\n",
              "      <td>0.18</td>\n",
              "      <td>0.28</td>\n",
              "      <td>17.05</td>\n",
              "      <td>0.047</td>\n",
              "      <td>53.0</td>\n",
              "      <td>139.0</td>\n",
              "      <td>0.99724</td>\n",
              "      <td>3.25</td>\n",
              "      <td>0.35</td>\n",
              "      <td>10.5</td>\n",
              "      <td>0</td>\n",
              "      <td>6</td>\n",
              "    </tr>\n",
              "    <tr>\n",
              "      <th>3228</th>\n",
              "      <td>3229</td>\n",
              "      <td>6.0</td>\n",
              "      <td>0.28</td>\n",
              "      <td>0.25</td>\n",
              "      <td>1.80</td>\n",
              "      <td>0.042</td>\n",
              "      <td>8.0</td>\n",
              "      <td>108.0</td>\n",
              "      <td>0.99290</td>\n",
              "      <td>3.08</td>\n",
              "      <td>0.55</td>\n",
              "      <td>9.0</td>\n",
              "      <td>0</td>\n",
              "      <td>5</td>\n",
              "    </tr>\n",
              "    <tr>\n",
              "      <th>3229</th>\n",
              "      <td>3230</td>\n",
              "      <td>7.7</td>\n",
              "      <td>0.28</td>\n",
              "      <td>0.29</td>\n",
              "      <td>6.90</td>\n",
              "      <td>0.041</td>\n",
              "      <td>29.0</td>\n",
              "      <td>163.0</td>\n",
              "      <td>0.99520</td>\n",
              "      <td>3.44</td>\n",
              "      <td>0.60</td>\n",
              "      <td>10.5</td>\n",
              "      <td>0</td>\n",
              "      <td>6</td>\n",
              "    </tr>\n",
              "    <tr>\n",
              "      <th>3230</th>\n",
              "      <td>3231</td>\n",
              "      <td>7.1</td>\n",
              "      <td>0.15</td>\n",
              "      <td>0.34</td>\n",
              "      <td>5.30</td>\n",
              "      <td>0.034</td>\n",
              "      <td>33.0</td>\n",
              "      <td>104.0</td>\n",
              "      <td>0.99530</td>\n",
              "      <td>3.37</td>\n",
              "      <td>0.52</td>\n",
              "      <td>9.3</td>\n",
              "      <td>0</td>\n",
              "      <td>7</td>\n",
              "    </tr>\n",
              "  </tbody>\n",
              "</table>\n",
              "<p>3231 rows × 14 columns</p>\n",
              "</div>"
            ],
            "text/plain": [
              "        id  fixed acidity  volatile acidity  ...  alcohol  type  quality\n",
              "0        1            8.0              0.18  ...     12.1     0        6\n",
              "1        2            7.5              0.38  ...     13.0     0        7\n",
              "2        3            6.1              0.27  ...     12.5     0        6\n",
              "3        4            6.4              0.32  ...      9.4     0        5\n",
              "4        5            8.4              0.37  ...     11.2     1        7\n",
              "...    ...            ...               ...  ...      ...   ...      ...\n",
              "3226  3227            6.4              0.16  ...     10.5     0        5\n",
              "3227  3228            6.4              0.18  ...     10.5     0        6\n",
              "3228  3229            6.0              0.28  ...      9.0     0        5\n",
              "3229  3230            7.7              0.28  ...     10.5     0        6\n",
              "3230  3231            7.1              0.15  ...      9.3     0        7\n",
              "\n",
              "[3231 rows x 14 columns]"
            ]
          },
          "metadata": {},
          "execution_count": 9
        }
      ]
    },
    {
      "cell_type": "code",
      "metadata": {
        "id": "CmFRYe_JGbCo"
      },
      "source": [
        "x = train.drop(['id','quality'], axis =1)\n",
        "y = train['quality']"
      ],
      "execution_count": null,
      "outputs": []
    },
    {
      "cell_type": "code",
      "metadata": {
        "colab": {
          "base_uri": "https://localhost:8080/"
        },
        "id": "y8AXJsAYGtZN",
        "outputId": "9763a835-81b2-4e4a-dad1-812399d14aec"
      },
      "source": [
        "from sklearn.linear_model import LogisticRegression\n",
        "\n",
        "model = LogisticRegression(solver = 'liblinear')\n",
        "model.fit(x,y)"
      ],
      "execution_count": null,
      "outputs": [
        {
          "output_type": "execute_result",
          "data": {
            "text/plain": [
              "LogisticRegression(solver='liblinear')"
            ]
          },
          "metadata": {},
          "execution_count": 11
        }
      ]
    },
    {
      "cell_type": "markdown",
      "metadata": {
        "id": "C52-kMxjHgcI"
      },
      "source": [
        "ctl + m + b : 셀 밑에 셀 추가\n",
        "\n",
        "ctl + m + a : 셀 위에 셀 추가"
      ]
    },
    {
      "cell_type": "code",
      "metadata": {
        "id": "481wodWgHwCY"
      },
      "source": [
        "import numpy as np\n",
        "\n",
        "def ACCURACY(true, pred):\n",
        "  score = np.mean(true == pred)\n",
        "  return score"
      ],
      "execution_count": null,
      "outputs": []
    },
    {
      "cell_type": "code",
      "metadata": {
        "colab": {
          "base_uri": "https://localhost:8080/"
        },
        "id": "4WsVyknNH9jU",
        "outputId": "2ca5e691-6d16-4ac9-8a9d-caba3e3ee8e8"
      },
      "source": [
        "prediction = model.predict(x)\n",
        "score = ACCURACY(y, prediction)\n",
        "print(f'모델의 정확도는 {score*100:.2f}% 입니다')"
      ],
      "execution_count": null,
      "outputs": [
        {
          "output_type": "stream",
          "name": "stdout",
          "text": [
            "모델의 정확도는 54.16% 입니다\n"
          ]
        }
      ]
    },
    {
      "cell_type": "code",
      "metadata": {
        "colab": {
          "base_uri": "https://localhost:8080/"
        },
        "id": "Bk2_7goKIJ7t",
        "outputId": "1cd1ee37-f617-451f-8df7-ee8d4daf0b9e"
      },
      "source": [
        "from collections import Counter\n",
        "\n",
        "pred_cnt = Counter(prediction)\n",
        "true_cnt = Counter(y)\n",
        "\n",
        "for key in sorted(true_cnt.keys()):\n",
        "  print(f'{key} 값 예측 개수 : {pred_cnt[key]}개, 실제 값 개수 : {true_cnt[key]}개')"
      ],
      "execution_count": null,
      "outputs": [
        {
          "output_type": "stream",
          "name": "stdout",
          "text": [
            "4 값 예측 개수 : 0개, 실제 값 개수 : 108개\n",
            "5 값 예측 개수 : 1091개, 실제 값 개수 : 1069개\n",
            "6 값 예측 개수 : 2049개, 실제 값 개수 : 1418개\n",
            "7 값 예측 개수 : 91개, 실제 값 개수 : 539개\n",
            "8 값 예측 개수 : 0개, 실제 값 개수 : 97개\n"
          ]
        }
      ]
    },
    {
      "cell_type": "code",
      "metadata": {
        "colab": {
          "base_uri": "https://localhost:8080/",
          "height": 638
        },
        "id": "lQaMzFVGIwrr",
        "outputId": "0c8c6305-4d91-4312-e696-c293447cefc7"
      },
      "source": [
        "import matplotlib.pyplot as plt\n",
        "\n",
        "index = sorted(true_cnt.keys())\n",
        "pred_val = [pred_cnt[key] for key in index]\n",
        "true_val = [true_cnt[key] for key in index]\n",
        "\n",
        "plt.figure(figsize=(15,10))\n",
        "bar_width = 0.35\n",
        "\n",
        "p1 = plt.bar([idx-bar_width/2 for idx in index], pred_val,\n",
        "             bar_width,\n",
        "             color = 'b',\n",
        "             alpha= 0.5)\n",
        "p2 = plt.bar([idx-bar_width/2 for idx in index], true_val,\n",
        "             bar_width,\n",
        "             color = 'r',\n",
        "             alpha= 0.5)\n",
        "plt.title('Prediction Analysis', fontsize = 20)\n",
        "plt.ylabel('Value Counting', fontsize =18)\n",
        "plt.xlabel('Quality', fontsize =18)\n",
        "plt.xticks(index, fontsize=15)\n",
        "plt.legend((p1[0], p2[0]), ('Predicion', 'True'), fontsize=15)\n",
        "plt.show()"
      ],
      "execution_count": null,
      "outputs": [
        {
          "output_type": "display_data",
          "data": {
            "image/png": "[encoded data removed]",
            "text/plain": [
              "<Figure size 1080x720 with 1 Axes>"
            ]
          },
          "metadata": {
            "needs_background": "light"
          }
        }
      ]
    },
    {
      "cell_type": "code",
      "metadata": {
        "colab": {
          "base_uri": "https://localhost:8080/"
        },
        "id": "KOGwK84iJ8bm",
        "outputId": "84ed7456-1b1d-4c2a-cc96-4e19258a0074"
      },
      "source": [
        "accurate = y[y==prediction]\n",
        "print('정답을 맞춘 개수 : ', len(accurate))\n",
        "\n",
        "accu_cnt = Counter(accurate)\n",
        "true_cnt = Counter(y)\n",
        "\n",
        "for key in sorted(true_cnt.keys()):\n",
        "  print(f'{key} 값 예측 개수: {accu_cnt[key]}개, 실제 값 개수 : {true_cnt[key]}개, 정답률: {accu_cnt[key]/true_cnt[key]*100:.2f}%')"
      ],
      "execution_count": null,
      "outputs": [
        {
          "output_type": "stream",
          "name": "stdout",
          "text": [
            "정답을 맞춘 개수 :  1750\n",
            "4 값 예측 개수: 0개, 실제 값 개수 : 108개, 정답률: 0.00%\n",
            "5 값 예측 개수: 642개, 실제 값 개수 : 1069개, 정답률: 60.06%\n",
            "6 값 예측 개수: 1056개, 실제 값 개수 : 1418개, 정답률: 74.47%\n",
            "7 값 예측 개수: 52개, 실제 값 개수 : 539개, 정답률: 9.65%\n",
            "8 값 예측 개수: 0개, 실제 값 개수 : 97개, 정답률: 0.00%\n"
          ]
        }
      ]
    },
    {
      "cell_type": "code",
      "metadata": {
        "colab": {
          "base_uri": "https://localhost:8080/",
          "height": 638
        },
        "id": "x7p1I6nFK3tY",
        "outputId": "17d7c57e-3f3f-409e-d6b7-b2cfb2587b55"
      },
      "source": [
        "index = sorted(true_cnt.keys())\n",
        "accu_val = [accu_cnt[key] for key in index]\n",
        "true_val = [true_cnt[key] for key in index]\n",
        "\n",
        "plt.figure(figsize=(15,10))\n",
        "bar_width = 0.35\n",
        "p1 = plt.bar([idx-bar_width/2 for idx in index], accu_val, \n",
        "             bar_width, \n",
        "             color='b', \n",
        "             alpha=0.5)\n",
        "p2 = plt.bar([idx+bar_width/2 for idx in index], true_val, \n",
        "             bar_width, \n",
        "             color='r', \n",
        "             alpha=0.5)\n",
        "plt.title('Prediction Analysis (with Only Correct Answer)', fontsize=20)\n",
        "plt.ylabel('Value Counting', fontsize=18)\n",
        "plt.xlabel('Quality', fontsize=18)\n",
        "plt.xticks(index, fontsize=15)\n",
        "plt.legend((p1[0], p2[0]), ('Prediction', 'True'), fontsize=15)\n",
        "plt.show()"
      ],
      "execution_count": null,
      "outputs": [
        {
          "output_type": "display_data",
          "data": {
            "image/png": "[encoded data removed]",
            "text/plain": [
              "<Figure size 1080x720 with 1 Axes>"
            ]
          },
          "metadata": {
            "needs_background": "light"
          }
        }
      ]
    },
    {
      "cell_type": "code",
      "metadata": {
        "colab": {
          "base_uri": "https://localhost:8080/"
        },
        "id": "L4Sre0YAK5xo",
        "outputId": "91911daa-d4c5-4070-e537-376674557cb5"
      },
      "source": [
        "test = pd.read_csv('/content/drive/MyDrive/Colab Notebooks/(dacon)와인품질분류/test.csv')\n",
        "word_to_num = {'white':0,'red':1}\n",
        "\n",
        "test['type'] = test['type'].replace(word_to_num)\n",
        "\n",
        "prediction = model.predict(test.drop('id', axis=1))\n",
        "prediction"
      ],
      "execution_count": null,
      "outputs": [
        {
          "output_type": "execute_result",
          "data": {
            "text/plain": [
              "array([6, 5, 5, ..., 5, 6, 6])"
            ]
          },
          "metadata": {},
          "execution_count": 24
        }
      ]
    },
    {
      "cell_type": "code",
      "metadata": {
        "id": "2cSLgyI-LqoJ"
      },
      "source": [
        "submission = pd.read_csv('/content/drive/MyDrive/Colab Notebooks/(dacon)와인품질분류/sample_submission.csv')\n",
        "submission['quality'] = prediction\n",
        "submission\n",
        "\n",
        "submission.to_csv('/content/drive/MyDrive/Colab Notebooks/(dacon)와인품질분류/submission.csv')"
      ],
      "execution_count": null,
      "outputs": []
    }
  ]
}